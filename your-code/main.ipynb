{
 "cells": [
  {
   "cell_type": "markdown",
   "metadata": {},
   "source": [
    "# Before your start:\n",
    "\n",
    "    Read the README.md file\n",
    "    Comment as much as you can and use the resources (README.md file)\n",
    "    Happy learning!\n",
    "\n",
    "*Notes:* \n",
    "\n",
    "- Solve the questions with python.\n",
    "\n",
    "- Round the final answer to three decimal places."
   ]
  },
  {
   "cell_type": "code",
   "execution_count": 23,
   "metadata": {},
   "outputs": [],
   "source": [
    "from scipy import stats\n",
    "import numpy as np\n",
    "import matplotlib.pyplot as plt\n",
    "import math"
   ]
  },
  {
   "cell_type": "markdown",
   "metadata": {},
   "source": [
    "## Bernoulli's Distribution\n",
    "\n",
    "In a basket containing 100 fruits, there are 60 apples and 40 oranges. \n",
    "\n",
    "A fruit is picked randomly from the basket. \n",
    "\n",
    "1. **What is the probability that the fruit is apple?**\n",
    "1. **What is the probability that it is an orange?**"
   ]
  },
  {
   "cell_type": "code",
   "execution_count": 24,
   "metadata": {},
   "outputs": [
    {
     "name": "stdout",
     "output_type": "stream",
     "text": [
      "P(Apple) = 0.6\n",
      "P(Orange) = 0.4\n"
     ]
    }
   ],
   "source": [
    "\"\"\"\n",
    "Calculate:\n",
    "p = probability that the fruit is an apple \n",
    "q = probability that the fruit is an orange\n",
    "\"\"\"\n",
    "\n",
    "total_fruits = 100\n",
    "apples = 60\n",
    "oranges = 40\n",
    "\n",
    "# Probability of picking an apple\n",
    "p = apples / total_fruits\n",
    "q = oranges / total_fruits\n",
    "\n",
    "print(\"P(Apple) =\", p)\n",
    "print(\"P(Orange) =\", q)"
   ]
  },
  {
   "cell_type": "markdown",
   "metadata": {},
   "source": [
    "Now we take a random sample of 20 fruits from the basket. After each fruit is taken, a new fruit of the same type is replaced in the basket. Therefore, every time we are taking 1 fruit from 100 fruits. \n",
    "\n",
    "1. **What is the probability that the first 5 fruits are all apples?**\n",
    "\n",
    "1. **What is the probability that the first 5 fruits are all apples and the next 15 fruits are all oranges?**\n",
    "\n",
    "You can include the `p` and `q` probabilities you previous calculated in your solution."
   ]
  },
  {
   "cell_type": "code",
   "execution_count": 25,
   "metadata": {},
   "outputs": [
    {
     "name": "stdout",
     "output_type": "stream",
     "text": [
      "Probability first 5 fruits are all apples:  0.077760\n",
      "Probability first 5 apples and next 15 oranges: 0.0000000835\n"
     ]
    }
   ],
   "source": [
    "# probabilities of picking an apple or orange in one draw\n",
    "p = 0.6  \n",
    "q = 0.4  \n",
    "\n",
    "# 1. Probability first 5 fruits are all apples\n",
    "prob_first_5_apples = p ** 5\n",
    "\n",
    "# 2. Probability first 5 apples and next 15 oranges\n",
    "prob_first_5_apples_next_15_oranges = (p ** 5) * (q ** 15)\n",
    "\n",
    "print(f\"Probability first 5 fruits are all apples: {prob_first_5_apples: .6f}\")\n",
    "print(f\"Probability first 5 apples and next 15 oranges: {prob_first_5_apples_next_15_oranges:.10f}\")"
   ]
  },
  {
   "cell_type": "markdown",
   "metadata": {},
   "source": [
    "## Binomial Distribution\n",
    "\n",
    "Similar to the above problem, this time again we randomly sample 20 fruits.\n",
    "\n",
    "**What is the probability that this time the sample contains 5 apples and 15 oranges?**\n",
    "\n",
    "Please note that this time the order of the fruits being picked does not matter."
   ]
  },
  {
   "cell_type": "code",
   "execution_count": 26,
   "metadata": {},
   "outputs": [
    {
     "name": "stdout",
     "output_type": "stream",
     "text": [
      "Probability of 5 apples and 15 oranges (any order): 0.001294\n"
     ]
    }
   ],
   "source": [
    "#refers to the total number of fruits picked\n",
    "n = 20      \n",
    "# refers to the number of apples picked\n",
    "k = 5      \n",
    "# refers to the probability of picking an apple\n",
    "p = 0.6     \n",
    "\n",
    "# Binomial probability mass function (pmf)\n",
    "prob_5_apples = binom.pmf(k, n, p)\n",
    "print(f\"Probability of 5 apples and 15 oranges (any order): {prob_5_apples:.6f}\")"
   ]
  },
  {
   "cell_type": "markdown",
   "metadata": {},
   "source": [
    "In the lesson we also discussed CDF (cumulative distribution function). In the context of the above problem, **what is the probability that less than 5 fruits picked are apples?**\n",
    "\n",
    "Write the formula and calculate the probability below."
   ]
  },
  {
   "cell_type": "code",
   "execution_count": 31,
   "metadata": {},
   "outputs": [
    {
     "name": "stdout",
     "output_type": "stream",
     "text": [
      "Probability of less than 5 apples: 0.0003\n"
     ]
    }
   ],
   "source": [
    "#Less than 5 apples means we need to calculate the cumulative distribution function (CDF) for k = 4\n",
    "# This gives us the probability of getting 0, 1, 2, 3, or 4 apples in 20 trials.\n",
    "# We can use the binomial distribution CDF\n",
    "# parameters\n",
    "# refers to the total number of trials (fruits picked)\n",
    "n = 20\n",
    "# refers to the probability of picking an apple\n",
    "p = 0.6       \n",
    "k = 4         # \"less than 5\" means k <= 4\n",
    "\n",
    "# CDF calculation\n",
    "prob_less_than_5 = binom.cdf(k, n, p)\n",
    "print(f\"Probability of less than 5 apples: {prob_less_than_5:.4f}\")"
   ]
  },
  {
   "cell_type": "markdown",
   "metadata": {},
   "source": [
    "<!-- **Plot the PDF (probability distributiom function) for the above binomial distribution.** -->\n",
    "\n",
    "**Plot the Probability Mass Function (PMF) for the above binomial distribution.**\n",
    "\n",
    "*Hint: The range of x in a binomial distribution is from `0` to `n`.*"
   ]
  },
  {
   "cell_type": "code",
   "execution_count": 49,
   "metadata": {},
   "outputs": [
    {
     "data": {
      "image/png": "[encoded data removed]",
      "text/plain": [
       "<Figure size 640x480 with 1 Axes>"
      ]
     },
     "metadata": {},
     "output_type": "display_data"
    }
   ],
   "source": [
    "# Parameters\n",
    "n = 20\n",
    "p = 0.6\n",
    "\n",
    "# x values from 0 to n\n",
    "x = np.arange(0, n+1)\n",
    "\n",
    "# PMF values\n",
    "pmf_values = binom.pmf(x, n, p)\n",
    "\n",
    "# Plot\n",
    "plt.bar(x, pmf_values, color='lightgreen', edgecolor='pink')\n",
    "plt.xlabel('Number of apples (x)')\n",
    "plt.ylabel('Probability')\n",
    "plt.title('Binomial Distribution PMF (n=20, p=0.3)')\n",
    "plt.xticks(x)\n",
    "plt.grid(axis='y')\n",
    "plt.show()"
   ]
  },
  {
   "cell_type": "markdown",
   "metadata": {},
   "source": [
    "## Poisson Distribution\n",
    "\n",
    "In this challenge you are required to use the Math library in python to solve the problems.\n",
    "\n",
    "In the UEFA champions league tournament, the average number of goals scored in a match is 2.3. \n",
    "\n",
    "**What is the probability that the number of goals scored in a match is 5?**\n",
    "\n",
    "*Hint: Use the exp() in the math library*\n",
    "\n",
    "And to calculate the factorial, you can use the following code:\n",
    "\n",
    "```python\n",
    "import math\n",
    "math.factorial(n) # n is the number you want to find the factorial of\n",
    "```"
   ]
  },
  {
   "cell_type": "code",
   "execution_count": null,
   "metadata": {},
   "outputs": [
    {
     "name": "stdout",
     "output_type": "stream",
     "text": [
      "Probability of exactly 5 goals: 0.053775\n"
     ]
    }
   ],
   "source": [
    "import math\n",
    "\n",
    "# Parameters\n",
    "lambda_ = 2.3\n",
    "k = 5\n",
    "\n",
    "# Calculate Poisson PMF\n",
    "prob = (lambda_**k * math.exp(-lambda_)) / math.factorial(k)\n",
    "\n",
    "print(f\"Probability of exactly {k} goals: {prob:.6f}\")"
   ]
  },
  {
   "cell_type": "markdown",
   "metadata": {},
   "source": [
    "**Draw a poisson probability distribution plot for the number of goals to be between 0 to 10.**"
   ]
  },
  {
   "cell_type": "code",
   "execution_count": 46,
   "metadata": {},
   "outputs": [
    {
     "data": {
      "image/png": "[encoded data removed]",
      "text/plain": [
       "<Figure size 640x480 with 1 Axes>"
      ]
     },
     "metadata": {},
     "output_type": "display_data"
    }
   ],
   "source": [
    "# Parameters\n",
    "lambda_ = 2.3\n",
    "x = np.arange(0, 11)  # 0 to 10 goals\n",
    "\n",
    "# Calculate Poisson PMF for each x\n",
    "pmf = [(lambda_**k * math.exp(-lambda_)) / math.factorial(k) for k in x]\n",
    "\n",
    "# Plot using bar chart\n",
    "plt.bar(x, pmf, color='pink', edgecolor='blue')\n",
    "plt.xlabel('Number of goals')\n",
    "plt.ylabel('Probability')\n",
    "plt.title('Poisson Distribution PMF (λ=2.3)')\n",
    "plt.xticks(x)\n",
    "plt.grid(axis='y')\n",
    "plt.show()"
   ]
  }
 ],
 "metadata": {
  "kernelspec": {
   "display_name": "base",
   "language": "python",
   "name": "python3"
  },
  "language_info": {
   "codemirror_mode": {
    "name": "ipython",
    "version": 3
   },
   "file_extension": ".py",
   "mimetype": "text/x-python",
   "name": "python",
   "nbconvert_exporter": "python",
   "pygments_lexer": "ipython3",
   "version": "3.13.5"
  }
 },
 "nbformat": 4,
 "nbformat_minor": 2
}
